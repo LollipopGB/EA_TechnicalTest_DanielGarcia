{
 "cells": [
  {
   "cell_type": "markdown",
   "metadata": {},
   "source": [
    "# Task 1 - Text classification\n",
    "\n",
    "The results in the this notebook are not \"expected\". This is because the size of the data was extremely reduced to compute all the batches fed to MBERT to generate the embeddings. With a time and computational resources, this approach would work better. But the aim of this notebook is to show another viable approach to address the same task.\n",
    "\n",
    "### 1) Load libraries"
   ]
  },
  {
   "cell_type": "code",
   "execution_count": 14,
   "metadata": {},
   "outputs": [],
   "source": [
    "import numpy as np\n",
    "import pandas as pd\n",
    "import matplotlib.pyplot as plt\n",
    "import math\n",
    "import os\n",
    "import sys\n",
    "import plotly.graph_objects as go\n",
    "from sklearn.model_selection import train_test_split \n",
    "from sklearn.linear_model import LogisticRegression \n",
    "from sklearn import metrics\n",
    "from sklearn.model_selection import KFold\n",
    "from sklearn import svm"
   ]
  },
  {
   "cell_type": "markdown",
   "metadata": {},
   "source": [
    "### 2) Read the csv\n",
    "\n",
    "This csv is the output from the notebook run in Google Colab.\n",
    "\n",
    "The word embedding is flatten, generating as many columns as the length of the vector (512)."
   ]
  },
  {
   "cell_type": "code",
   "execution_count": 2,
   "metadata": {},
   "outputs": [],
   "source": [
    "df_f= pd.read_csv('ea_embeddings_bert_flatten.csv', sep=',', header=0)"
   ]
  },
  {
   "cell_type": "code",
   "execution_count": 3,
   "metadata": {},
   "outputs": [
    {
     "data": {
      "text/html": [
       "<div>\n",
       "<style scoped>\n",
       "    .dataframe tbody tr th:only-of-type {\n",
       "        vertical-align: middle;\n",
       "    }\n",
       "\n",
       "    .dataframe tbody tr th {\n",
       "        vertical-align: top;\n",
       "    }\n",
       "\n",
       "    .dataframe thead th {\n",
       "        text-align: right;\n",
       "    }\n",
       "</style>\n",
       "<table border=\"1\" class=\"dataframe\">\n",
       "  <thead>\n",
       "    <tr style=\"text-align: right;\">\n",
       "      <th></th>\n",
       "      <th>language</th>\n",
       "      <th>category</th>\n",
       "      <th>2</th>\n",
       "      <th>3</th>\n",
       "      <th>4</th>\n",
       "      <th>5</th>\n",
       "      <th>6</th>\n",
       "      <th>7</th>\n",
       "      <th>8</th>\n",
       "      <th>9</th>\n",
       "      <th>...</th>\n",
       "      <th>760</th>\n",
       "      <th>761</th>\n",
       "      <th>762</th>\n",
       "      <th>763</th>\n",
       "      <th>764</th>\n",
       "      <th>765</th>\n",
       "      <th>766</th>\n",
       "      <th>767</th>\n",
       "      <th>768</th>\n",
       "      <th>769</th>\n",
       "    </tr>\n",
       "  </thead>\n",
       "  <tbody>\n",
       "    <tr>\n",
       "      <th>0</th>\n",
       "      <td>en</td>\n",
       "      <td>APR</td>\n",
       "      <td>0.251807</td>\n",
       "      <td>-0.298893</td>\n",
       "      <td>0.37124</td>\n",
       "      <td>-0.256563</td>\n",
       "      <td>-0.12887</td>\n",
       "      <td>0.484728</td>\n",
       "      <td>0.269987</td>\n",
       "      <td>0.372555</td>\n",
       "      <td>...</td>\n",
       "      <td>0.020349</td>\n",
       "      <td>0.485651</td>\n",
       "      <td>0.188433</td>\n",
       "      <td>0.891282</td>\n",
       "      <td>0.398408</td>\n",
       "      <td>0.30282</td>\n",
       "      <td>0.259855</td>\n",
       "      <td>-0.309314</td>\n",
       "      <td>0.272197</td>\n",
       "      <td>0.236462</td>\n",
       "    </tr>\n",
       "    <tr>\n",
       "      <th>1</th>\n",
       "      <td>en</td>\n",
       "      <td>APR</td>\n",
       "      <td>0.251807</td>\n",
       "      <td>-0.298893</td>\n",
       "      <td>0.37124</td>\n",
       "      <td>-0.256563</td>\n",
       "      <td>-0.12887</td>\n",
       "      <td>0.484728</td>\n",
       "      <td>0.269987</td>\n",
       "      <td>0.372555</td>\n",
       "      <td>...</td>\n",
       "      <td>0.020349</td>\n",
       "      <td>0.485651</td>\n",
       "      <td>0.188433</td>\n",
       "      <td>0.891282</td>\n",
       "      <td>0.398408</td>\n",
       "      <td>0.30282</td>\n",
       "      <td>0.259855</td>\n",
       "      <td>-0.309314</td>\n",
       "      <td>0.272197</td>\n",
       "      <td>0.236462</td>\n",
       "    </tr>\n",
       "    <tr>\n",
       "      <th>2</th>\n",
       "      <td>en</td>\n",
       "      <td>APR</td>\n",
       "      <td>0.251807</td>\n",
       "      <td>-0.298893</td>\n",
       "      <td>0.37124</td>\n",
       "      <td>-0.256563</td>\n",
       "      <td>-0.12887</td>\n",
       "      <td>0.484728</td>\n",
       "      <td>0.269987</td>\n",
       "      <td>0.372555</td>\n",
       "      <td>...</td>\n",
       "      <td>0.020349</td>\n",
       "      <td>0.485651</td>\n",
       "      <td>0.188433</td>\n",
       "      <td>0.891282</td>\n",
       "      <td>0.398408</td>\n",
       "      <td>0.30282</td>\n",
       "      <td>0.259855</td>\n",
       "      <td>-0.309314</td>\n",
       "      <td>0.272197</td>\n",
       "      <td>0.236462</td>\n",
       "    </tr>\n",
       "    <tr>\n",
       "      <th>3</th>\n",
       "      <td>en</td>\n",
       "      <td>APR</td>\n",
       "      <td>0.251807</td>\n",
       "      <td>-0.298893</td>\n",
       "      <td>0.37124</td>\n",
       "      <td>-0.256563</td>\n",
       "      <td>-0.12887</td>\n",
       "      <td>0.484728</td>\n",
       "      <td>0.269987</td>\n",
       "      <td>0.372555</td>\n",
       "      <td>...</td>\n",
       "      <td>0.020349</td>\n",
       "      <td>0.485651</td>\n",
       "      <td>0.188433</td>\n",
       "      <td>0.891282</td>\n",
       "      <td>0.398408</td>\n",
       "      <td>0.30282</td>\n",
       "      <td>0.259855</td>\n",
       "      <td>-0.309314</td>\n",
       "      <td>0.272197</td>\n",
       "      <td>0.236462</td>\n",
       "    </tr>\n",
       "    <tr>\n",
       "      <th>4</th>\n",
       "      <td>en</td>\n",
       "      <td>APR</td>\n",
       "      <td>0.251807</td>\n",
       "      <td>-0.298893</td>\n",
       "      <td>0.37124</td>\n",
       "      <td>-0.256563</td>\n",
       "      <td>-0.12887</td>\n",
       "      <td>0.484728</td>\n",
       "      <td>0.269987</td>\n",
       "      <td>0.372555</td>\n",
       "      <td>...</td>\n",
       "      <td>0.020349</td>\n",
       "      <td>0.485651</td>\n",
       "      <td>0.188433</td>\n",
       "      <td>0.891282</td>\n",
       "      <td>0.398408</td>\n",
       "      <td>0.30282</td>\n",
       "      <td>0.259855</td>\n",
       "      <td>-0.309314</td>\n",
       "      <td>0.272197</td>\n",
       "      <td>0.236462</td>\n",
       "    </tr>\n",
       "  </tbody>\n",
       "</table>\n",
       "<p>5 rows × 770 columns</p>\n",
       "</div>"
      ],
      "text/plain": [
       "  language category         2         3        4         5        6         7  \\\n",
       "0       en      APR  0.251807 -0.298893  0.37124 -0.256563 -0.12887  0.484728   \n",
       "1       en      APR  0.251807 -0.298893  0.37124 -0.256563 -0.12887  0.484728   \n",
       "2       en      APR  0.251807 -0.298893  0.37124 -0.256563 -0.12887  0.484728   \n",
       "3       en      APR  0.251807 -0.298893  0.37124 -0.256563 -0.12887  0.484728   \n",
       "4       en      APR  0.251807 -0.298893  0.37124 -0.256563 -0.12887  0.484728   \n",
       "\n",
       "          8         9  ...       760       761       762       763       764  \\\n",
       "0  0.269987  0.372555  ...  0.020349  0.485651  0.188433  0.891282  0.398408   \n",
       "1  0.269987  0.372555  ...  0.020349  0.485651  0.188433  0.891282  0.398408   \n",
       "2  0.269987  0.372555  ...  0.020349  0.485651  0.188433  0.891282  0.398408   \n",
       "3  0.269987  0.372555  ...  0.020349  0.485651  0.188433  0.891282  0.398408   \n",
       "4  0.269987  0.372555  ...  0.020349  0.485651  0.188433  0.891282  0.398408   \n",
       "\n",
       "       765       766       767       768       769  \n",
       "0  0.30282  0.259855 -0.309314  0.272197  0.236462  \n",
       "1  0.30282  0.259855 -0.309314  0.272197  0.236462  \n",
       "2  0.30282  0.259855 -0.309314  0.272197  0.236462  \n",
       "3  0.30282  0.259855 -0.309314  0.272197  0.236462  \n",
       "4  0.30282  0.259855 -0.309314  0.272197  0.236462  \n",
       "\n",
       "[5 rows x 770 columns]"
      ]
     },
     "execution_count": 3,
     "metadata": {},
     "output_type": "execute_result"
    }
   ],
   "source": [
    "df_f.head()"
   ]
  },
  {
   "cell_type": "markdown",
   "metadata": {},
   "source": [
    "One hot encoding of categorical variables."
   ]
  },
  {
   "cell_type": "code",
   "execution_count": 4,
   "metadata": {},
   "outputs": [],
   "source": [
    "# use pd.concat to join the new columns with your original dataframe\n",
    "df_f = pd.concat([df_f,pd.get_dummies(df_f['language'], prefix='language')],axis=1)\n",
    "\n",
    "# now drop the original 'country' column (you don't need it anymore)\n",
    "df_f.drop(['language'],axis=1, inplace=True)"
   ]
  },
  {
   "cell_type": "code",
   "execution_count": 5,
   "metadata": {},
   "outputs": [
    {
     "data": {
      "text/html": [
       "<div>\n",
       "<style scoped>\n",
       "    .dataframe tbody tr th:only-of-type {\n",
       "        vertical-align: middle;\n",
       "    }\n",
       "\n",
       "    .dataframe tbody tr th {\n",
       "        vertical-align: top;\n",
       "    }\n",
       "\n",
       "    .dataframe thead th {\n",
       "        text-align: right;\n",
       "    }\n",
       "</style>\n",
       "<table border=\"1\" class=\"dataframe\">\n",
       "  <thead>\n",
       "    <tr style=\"text-align: right;\">\n",
       "      <th></th>\n",
       "      <th>category</th>\n",
       "      <th>2</th>\n",
       "      <th>3</th>\n",
       "      <th>4</th>\n",
       "      <th>5</th>\n",
       "      <th>6</th>\n",
       "      <th>7</th>\n",
       "      <th>8</th>\n",
       "      <th>9</th>\n",
       "      <th>10</th>\n",
       "      <th>...</th>\n",
       "      <th>763</th>\n",
       "      <th>764</th>\n",
       "      <th>765</th>\n",
       "      <th>766</th>\n",
       "      <th>767</th>\n",
       "      <th>768</th>\n",
       "      <th>769</th>\n",
       "      <th>language_en</th>\n",
       "      <th>language_es</th>\n",
       "      <th>language_fr</th>\n",
       "    </tr>\n",
       "  </thead>\n",
       "  <tbody>\n",
       "    <tr>\n",
       "      <th>0</th>\n",
       "      <td>APR</td>\n",
       "      <td>0.251807</td>\n",
       "      <td>-0.298893</td>\n",
       "      <td>0.37124</td>\n",
       "      <td>-0.256563</td>\n",
       "      <td>-0.12887</td>\n",
       "      <td>0.484728</td>\n",
       "      <td>0.269987</td>\n",
       "      <td>0.372555</td>\n",
       "      <td>-0.503706</td>\n",
       "      <td>...</td>\n",
       "      <td>0.891282</td>\n",
       "      <td>0.398408</td>\n",
       "      <td>0.30282</td>\n",
       "      <td>0.259855</td>\n",
       "      <td>-0.309314</td>\n",
       "      <td>0.272197</td>\n",
       "      <td>0.236462</td>\n",
       "      <td>1</td>\n",
       "      <td>0</td>\n",
       "      <td>0</td>\n",
       "    </tr>\n",
       "    <tr>\n",
       "      <th>1</th>\n",
       "      <td>APR</td>\n",
       "      <td>0.251807</td>\n",
       "      <td>-0.298893</td>\n",
       "      <td>0.37124</td>\n",
       "      <td>-0.256563</td>\n",
       "      <td>-0.12887</td>\n",
       "      <td>0.484728</td>\n",
       "      <td>0.269987</td>\n",
       "      <td>0.372555</td>\n",
       "      <td>-0.503706</td>\n",
       "      <td>...</td>\n",
       "      <td>0.891282</td>\n",
       "      <td>0.398408</td>\n",
       "      <td>0.30282</td>\n",
       "      <td>0.259855</td>\n",
       "      <td>-0.309314</td>\n",
       "      <td>0.272197</td>\n",
       "      <td>0.236462</td>\n",
       "      <td>1</td>\n",
       "      <td>0</td>\n",
       "      <td>0</td>\n",
       "    </tr>\n",
       "    <tr>\n",
       "      <th>2</th>\n",
       "      <td>APR</td>\n",
       "      <td>0.251807</td>\n",
       "      <td>-0.298893</td>\n",
       "      <td>0.37124</td>\n",
       "      <td>-0.256563</td>\n",
       "      <td>-0.12887</td>\n",
       "      <td>0.484728</td>\n",
       "      <td>0.269987</td>\n",
       "      <td>0.372555</td>\n",
       "      <td>-0.503706</td>\n",
       "      <td>...</td>\n",
       "      <td>0.891282</td>\n",
       "      <td>0.398408</td>\n",
       "      <td>0.30282</td>\n",
       "      <td>0.259855</td>\n",
       "      <td>-0.309314</td>\n",
       "      <td>0.272197</td>\n",
       "      <td>0.236462</td>\n",
       "      <td>1</td>\n",
       "      <td>0</td>\n",
       "      <td>0</td>\n",
       "    </tr>\n",
       "    <tr>\n",
       "      <th>3</th>\n",
       "      <td>APR</td>\n",
       "      <td>0.251807</td>\n",
       "      <td>-0.298893</td>\n",
       "      <td>0.37124</td>\n",
       "      <td>-0.256563</td>\n",
       "      <td>-0.12887</td>\n",
       "      <td>0.484728</td>\n",
       "      <td>0.269987</td>\n",
       "      <td>0.372555</td>\n",
       "      <td>-0.503706</td>\n",
       "      <td>...</td>\n",
       "      <td>0.891282</td>\n",
       "      <td>0.398408</td>\n",
       "      <td>0.30282</td>\n",
       "      <td>0.259855</td>\n",
       "      <td>-0.309314</td>\n",
       "      <td>0.272197</td>\n",
       "      <td>0.236462</td>\n",
       "      <td>1</td>\n",
       "      <td>0</td>\n",
       "      <td>0</td>\n",
       "    </tr>\n",
       "    <tr>\n",
       "      <th>4</th>\n",
       "      <td>APR</td>\n",
       "      <td>0.251807</td>\n",
       "      <td>-0.298893</td>\n",
       "      <td>0.37124</td>\n",
       "      <td>-0.256563</td>\n",
       "      <td>-0.12887</td>\n",
       "      <td>0.484728</td>\n",
       "      <td>0.269987</td>\n",
       "      <td>0.372555</td>\n",
       "      <td>-0.503706</td>\n",
       "      <td>...</td>\n",
       "      <td>0.891282</td>\n",
       "      <td>0.398408</td>\n",
       "      <td>0.30282</td>\n",
       "      <td>0.259855</td>\n",
       "      <td>-0.309314</td>\n",
       "      <td>0.272197</td>\n",
       "      <td>0.236462</td>\n",
       "      <td>1</td>\n",
       "      <td>0</td>\n",
       "      <td>0</td>\n",
       "    </tr>\n",
       "  </tbody>\n",
       "</table>\n",
       "<p>5 rows × 772 columns</p>\n",
       "</div>"
      ],
      "text/plain": [
       "  category         2         3        4         5        6         7  \\\n",
       "0      APR  0.251807 -0.298893  0.37124 -0.256563 -0.12887  0.484728   \n",
       "1      APR  0.251807 -0.298893  0.37124 -0.256563 -0.12887  0.484728   \n",
       "2      APR  0.251807 -0.298893  0.37124 -0.256563 -0.12887  0.484728   \n",
       "3      APR  0.251807 -0.298893  0.37124 -0.256563 -0.12887  0.484728   \n",
       "4      APR  0.251807 -0.298893  0.37124 -0.256563 -0.12887  0.484728   \n",
       "\n",
       "          8         9        10  ...       763       764      765       766  \\\n",
       "0  0.269987  0.372555 -0.503706  ...  0.891282  0.398408  0.30282  0.259855   \n",
       "1  0.269987  0.372555 -0.503706  ...  0.891282  0.398408  0.30282  0.259855   \n",
       "2  0.269987  0.372555 -0.503706  ...  0.891282  0.398408  0.30282  0.259855   \n",
       "3  0.269987  0.372555 -0.503706  ...  0.891282  0.398408  0.30282  0.259855   \n",
       "4  0.269987  0.372555 -0.503706  ...  0.891282  0.398408  0.30282  0.259855   \n",
       "\n",
       "        767       768       769  language_en  language_es  language_fr  \n",
       "0 -0.309314  0.272197  0.236462            1            0            0  \n",
       "1 -0.309314  0.272197  0.236462            1            0            0  \n",
       "2 -0.309314  0.272197  0.236462            1            0            0  \n",
       "3 -0.309314  0.272197  0.236462            1            0            0  \n",
       "4 -0.309314  0.272197  0.236462            1            0            0  \n",
       "\n",
       "[5 rows x 772 columns]"
      ]
     },
     "execution_count": 5,
     "metadata": {},
     "output_type": "execute_result"
    }
   ],
   "source": [
    "df_f.head()"
   ]
  },
  {
   "cell_type": "markdown",
   "metadata": {},
   "source": [
    "We separate the feature vector and the label in two different dataframes."
   ]
  },
  {
   "cell_type": "code",
   "execution_count": 6,
   "metadata": {},
   "outputs": [],
   "source": [
    "df_label = df_f['category']\n",
    "df_features = df_f.drop(columns=['category'])"
   ]
  },
  {
   "cell_type": "markdown",
   "metadata": {},
   "source": [
    "We split the dataset into training (90%) and test (10%). With the stratify function, it is ensure that there is a good proportion of the 4 labels in both sets. The percetanges are changed because now we have less data (we trimmed it to reduce the computation times)."
   ]
  },
  {
   "cell_type": "code",
   "execution_count": 9,
   "metadata": {},
   "outputs": [],
   "source": [
    "X_train, X_test, y_train, y_test = train_test_split(df_features, df_label, stratify=df_label, test_size=0.1)"
   ]
  },
  {
   "cell_type": "markdown",
   "metadata": {},
   "source": [
    "We train a classifier an we are going to start with a very basic as Logistic Regression model, because sometimes the simpler the better. There are also other reasons for that, for example, not all the languages have text in all categories, so it is easy to discard a language in some categories, reducing the problem to a kind of \"binary\" classification."
   ]
  },
  {
   "cell_type": "code",
   "execution_count": 10,
   "metadata": {},
   "outputs": [
    {
     "name": "stdout",
     "output_type": "stream",
     "text": [
      "0.5770700636942675\n",
      "[[  0   0   0 214]\n",
      " [  0   0   0  21]\n",
      " [  0   0   0  97]\n",
      " [  0   0   0 453]]\n",
      "                   precision    recall  f1-score   support\n",
      "\n",
      "              APR       0.00      0.00      0.00       214\n",
      "Conference_papers       0.00      0.00      0.00        21\n",
      "            PAN11       0.00      0.00      0.00        97\n",
      "        Wikipedia       0.58      1.00      0.73       453\n",
      "\n",
      "         accuracy                           0.58       785\n",
      "        macro avg       0.14      0.25      0.18       785\n",
      "     weighted avg       0.33      0.58      0.42       785\n",
      "\n"
     ]
    },
    {
     "name": "stderr",
     "output_type": "stream",
     "text": [
      "D:\\Anaconda\\envs\\tf2_gpu\\lib\\site-packages\\sklearn\\metrics\\_classification.py:1272: UndefinedMetricWarning: Precision and F-score are ill-defined and being set to 0.0 in labels with no predicted samples. Use `zero_division` parameter to control this behavior.\n",
      "  _warn_prf(average, modifier, msg_start, len(result))\n"
     ]
    }
   ],
   "source": [
    "lr = LogisticRegression()\n",
    "lr.fit(X_train, y_train)\n",
    "y_pred = lr.predict(X_test)\n",
    "score = lr.score(X_test, y_test)\n",
    "print(score)\n",
    "\n",
    "cm = metrics.confusion_matrix(y_test, y_pred)\n",
    "print(cm)\n",
    "\n",
    "print(metrics.classification_report(y_test, y_pred))"
   ]
  },
  {
   "cell_type": "code",
   "execution_count": 11,
   "metadata": {},
   "outputs": [
    {
     "name": "stdout",
     "output_type": "stream",
     "text": [
      "5761    Wikipedia\n",
      "2601        PAN11\n",
      "3357    Wikipedia\n",
      "7209    Wikipedia\n",
      "2427        PAN11\n",
      "4791    Wikipedia\n",
      "5991    Wikipedia\n",
      "4215    Wikipedia\n",
      "7537    Wikipedia\n",
      "6812    Wikipedia\n",
      "Name: category, dtype: object\n",
      "['Wikipedia' 'Wikipedia' 'Wikipedia' 'Wikipedia' 'Wikipedia' 'Wikipedia'\n",
      " 'Wikipedia' 'Wikipedia' 'Wikipedia' 'Wikipedia']\n"
     ]
    }
   ],
   "source": [
    "print(y_test[0:10])\n",
    "print(y_pred[0:10])"
   ]
  },
  {
   "cell_type": "code",
   "execution_count": 13,
   "metadata": {},
   "outputs": [
    {
     "data": {
      "image/png": "[encoded data removed]",
      "text/plain": [
       "<Figure size 648x648 with 2 Axes>"
      ]
     },
     "metadata": {
      "needs_background": "light"
     },
     "output_type": "display_data"
    }
   ],
   "source": [
    "plt.figure(figsize=(9,9))\n",
    "plt.imshow(cm, interpolation='nearest', cmap='Pastel1')\n",
    "plt.title('Confusion matrix', size = 15)\n",
    "plt.colorbar()\n",
    "tick_marks = np.arange(4)\n",
    "plt.xticks(tick_marks, [\"APR\", \"CP\", \"PAN11\", \"Wikipedia\"], rotation=45, size = 10)\n",
    "plt.yticks(tick_marks, [\"APR\", \"CP\", \"PAN11\", \"Wikipedia\"], size = 10)\n",
    "plt.tight_layout()\n",
    "plt.ylabel('Actual label', size = 15)\n",
    "plt.xlabel('Predicted label', size = 15)\n",
    "width, height = cm.shape\n",
    "for x in range(width):\n",
    "    for y in range(height):\n",
    "        plt.annotate(str(cm[x][y]), xy=(y, x), \n",
    "        horizontalalignment='center',\n",
    "        verticalalignment='center')"
   ]
  },
  {
   "cell_type": "markdown",
   "metadata": {},
   "source": [
    "The resuts are not good. Wikipedia is the only label classified."
   ]
  },
  {
   "cell_type": "code",
   "execution_count": 15,
   "metadata": {},
   "outputs": [
    {
     "name": "stdout",
     "output_type": "stream",
     "text": [
      "0.5770700636942675\n",
      "[[  0   0   0 214]\n",
      " [  0   0   0  21]\n",
      " [  0   0   0  97]\n",
      " [  0   0   0 453]]\n",
      "                   precision    recall  f1-score   support\n",
      "\n",
      "              APR       0.00      0.00      0.00       214\n",
      "Conference_papers       0.00      0.00      0.00        21\n",
      "            PAN11       0.00      0.00      0.00        97\n",
      "        Wikipedia       0.58      1.00      0.73       453\n",
      "\n",
      "         accuracy                           0.58       785\n",
      "        macro avg       0.14      0.25      0.18       785\n",
      "     weighted avg       0.33      0.58      0.42       785\n",
      "\n"
     ]
    },
    {
     "name": "stderr",
     "output_type": "stream",
     "text": [
      "D:\\Anaconda\\envs\\tf2_gpu\\lib\\site-packages\\sklearn\\metrics\\_classification.py:1272: UndefinedMetricWarning: Precision and F-score are ill-defined and being set to 0.0 in labels with no predicted samples. Use `zero_division` parameter to control this behavior.\n",
      "  _warn_prf(average, modifier, msg_start, len(result))\n"
     ]
    }
   ],
   "source": [
    "svm_cl = svm.SVC(kernel='linear')\n",
    "svm_cl.fit(X_train, y_train)\n",
    "y_pred = svm_cl.predict(X_test)\n",
    "\n",
    "score = svm_cl.score(X_test, y_test)\n",
    "print(score)\n",
    "\n",
    "cm = metrics.confusion_matrix(y_test, y_pred)\n",
    "print(cm)\n",
    "\n",
    "print(metrics.classification_report(y_test, y_pred))"
   ]
  },
  {
   "cell_type": "markdown",
   "metadata": {},
   "source": [
    "The results are the same with a more complex model, lets try to apply Cross Validation to separate the data split influence in the behaviour."
   ]
  },
  {
   "cell_type": "code",
   "execution_count": 16,
   "metadata": {},
   "outputs": [],
   "source": [
    "kf = KFold(n_splits=5,random_state=42,shuffle=True)"
   ]
  },
  {
   "cell_type": "code",
   "execution_count": 20,
   "metadata": {},
   "outputs": [
    {
     "name": "stderr",
     "output_type": "stream",
     "text": [
      "D:\\Anaconda\\envs\\tf2_gpu\\lib\\site-packages\\sklearn\\linear_model\\_logistic.py:940: ConvergenceWarning: lbfgs failed to converge (status=1):\n",
      "STOP: TOTAL NO. of ITERATIONS REACHED LIMIT.\n",
      "\n",
      "Increase the number of iterations (max_iter) or scale the data as shown in:\n",
      "    https://scikit-learn.org/stable/modules/preprocessing.html\n",
      "Please also refer to the documentation for alternative solver options:\n",
      "    https://scikit-learn.org/stable/modules/linear_model.html#logistic-regression\n",
      "  extra_warning_msg=_LOGISTIC_SOLVER_CONVERGENCE_MSG)\n",
      "D:\\Anaconda\\envs\\tf2_gpu\\lib\\site-packages\\sklearn\\linear_model\\_logistic.py:940: ConvergenceWarning: lbfgs failed to converge (status=1):\n",
      "STOP: TOTAL NO. of ITERATIONS REACHED LIMIT.\n",
      "\n",
      "Increase the number of iterations (max_iter) or scale the data as shown in:\n",
      "    https://scikit-learn.org/stable/modules/preprocessing.html\n",
      "Please also refer to the documentation for alternative solver options:\n",
      "    https://scikit-learn.org/stable/modules/linear_model.html#logistic-regression\n",
      "  extra_warning_msg=_LOGISTIC_SOLVER_CONVERGENCE_MSG)\n"
     ]
    }
   ],
   "source": [
    "accuracies = []\n",
    "\n",
    "for train_index, test_index in kf.split(df_label):\n",
    "\n",
    "    data_train   = df_features.loc[train_index]\n",
    "    target_train = df_label.loc[train_index]\n",
    "\n",
    "    data_test    = df_features.loc[test_index]\n",
    "    target_test  = df_label.loc[test_index]\n",
    "\n",
    "    # if needed, do preprocessing here\n",
    "\n",
    "    clf = LogisticRegression()\n",
    "    clf.fit(data_train,target_train)\n",
    "\n",
    "    preds = clf.predict(data_test)\n",
    "\n",
    "    # accuracy for the current fold only    \n",
    "    accuracy = metrics.accuracy_score(target_test,preds)\n",
    "\n",
    "    accuracies.append(accuracy)\n",
    "\n",
    "# this is the average accuracy over all folds\n",
    "average_accuracy = np.mean(accuracies)"
   ]
  },
  {
   "cell_type": "code",
   "execution_count": 21,
   "metadata": {},
   "outputs": [
    {
     "name": "stdout",
     "output_type": "stream",
     "text": [
      "[0.5630573248407643, 0.5726114649681529, 0.5748884639898024, 0.5710643722115998, 0.5748884639898024]\n",
      "0.5713020180000244\n"
     ]
    }
   ],
   "source": [
    "print(accuracies)\n",
    "print(average_accuracy)"
   ]
  },
  {
   "cell_type": "markdown",
   "metadata": {},
   "source": [
    "At the end, the results are similar. It happens because the documents were trimmed too much, and the number of documents was reduced. It was done just to show the viability of another technique to solve the problem, but the lack of time and computational resources pushed to reduce the data to deliver this approach."
   ]
  },
  {
   "cell_type": "code",
   "execution_count": null,
   "metadata": {},
   "outputs": [],
   "source": []
  }
 ],
 "metadata": {
  "kernelspec": {
   "display_name": "Python 3",
   "language": "python",
   "name": "python3"
  },
  "language_info": {
   "codemirror_mode": {
    "name": "ipython",
    "version": 3
   },
   "file_extension": ".py",
   "mimetype": "text/x-python",
   "name": "python",
   "nbconvert_exporter": "python",
   "pygments_lexer": "ipython3",
   "version": "3.7.7"
  }
 },
 "nbformat": 4,
 "nbformat_minor": 4
}
